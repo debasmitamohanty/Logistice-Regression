{
 "cells": [
  {
   "cell_type": "code",
   "execution_count": 23,
   "metadata": {},
   "outputs": [],
   "source": [
    "#Importing necessary libraries\n",
    "import pandas as pd,numpy as np\n",
    "import matplotlib.pyplot as plt\n",
    "import seaborn as sns"
   ]
  },
  {
   "cell_type": "code",
   "execution_count": 24,
   "metadata": {},
   "outputs": [],
   "source": [
    "train = pd.read_csv('titanic_train.csv')"
   ]
  },
  {
   "cell_type": "code",
   "execution_count": 25,
   "metadata": {},
   "outputs": [
    {
     "data": {
      "text/html": [
       "<div>\n",
       "<style scoped>\n",
       "    .dataframe tbody tr th:only-of-type {\n",
       "        vertical-align: middle;\n",
       "    }\n",
       "\n",
       "    .dataframe tbody tr th {\n",
       "        vertical-align: top;\n",
       "    }\n",
       "\n",
       "    .dataframe thead th {\n",
       "        text-align: right;\n",
       "    }\n",
       "</style>\n",
       "<table border=\"1\" class=\"dataframe\">\n",
       "  <thead>\n",
       "    <tr style=\"text-align: right;\">\n",
       "      <th></th>\n",
       "      <th>PassengerId</th>\n",
       "      <th>Survived</th>\n",
       "      <th>Pclass</th>\n",
       "      <th>Name</th>\n",
       "      <th>Sex</th>\n",
       "      <th>Age</th>\n",
       "      <th>SibSp</th>\n",
       "      <th>Parch</th>\n",
       "      <th>Ticket</th>\n",
       "      <th>Fare</th>\n",
       "      <th>Cabin</th>\n",
       "      <th>Embarked</th>\n",
       "    </tr>\n",
       "  </thead>\n",
       "  <tbody>\n",
       "    <tr>\n",
       "      <th>0</th>\n",
       "      <td>1</td>\n",
       "      <td>0</td>\n",
       "      <td>3</td>\n",
       "      <td>Braund, Mr. Owen Harris</td>\n",
       "      <td>male</td>\n",
       "      <td>22.0</td>\n",
       "      <td>1</td>\n",
       "      <td>0</td>\n",
       "      <td>A/5 21171</td>\n",
       "      <td>7.2500</td>\n",
       "      <td>NaN</td>\n",
       "      <td>S</td>\n",
       "    </tr>\n",
       "    <tr>\n",
       "      <th>1</th>\n",
       "      <td>2</td>\n",
       "      <td>1</td>\n",
       "      <td>1</td>\n",
       "      <td>Cumings, Mrs. John Bradley (Florence Briggs Th...</td>\n",
       "      <td>female</td>\n",
       "      <td>38.0</td>\n",
       "      <td>1</td>\n",
       "      <td>0</td>\n",
       "      <td>PC 17599</td>\n",
       "      <td>71.2833</td>\n",
       "      <td>C85</td>\n",
       "      <td>C</td>\n",
       "    </tr>\n",
       "    <tr>\n",
       "      <th>2</th>\n",
       "      <td>3</td>\n",
       "      <td>1</td>\n",
       "      <td>3</td>\n",
       "      <td>Heikkinen, Miss. Laina</td>\n",
       "      <td>female</td>\n",
       "      <td>26.0</td>\n",
       "      <td>0</td>\n",
       "      <td>0</td>\n",
       "      <td>STON/O2. 3101282</td>\n",
       "      <td>7.9250</td>\n",
       "      <td>NaN</td>\n",
       "      <td>S</td>\n",
       "    </tr>\n",
       "    <tr>\n",
       "      <th>3</th>\n",
       "      <td>4</td>\n",
       "      <td>1</td>\n",
       "      <td>1</td>\n",
       "      <td>Futrelle, Mrs. Jacques Heath (Lily May Peel)</td>\n",
       "      <td>female</td>\n",
       "      <td>35.0</td>\n",
       "      <td>1</td>\n",
       "      <td>0</td>\n",
       "      <td>113803</td>\n",
       "      <td>53.1000</td>\n",
       "      <td>C123</td>\n",
       "      <td>S</td>\n",
       "    </tr>\n",
       "    <tr>\n",
       "      <th>4</th>\n",
       "      <td>5</td>\n",
       "      <td>0</td>\n",
       "      <td>3</td>\n",
       "      <td>Allen, Mr. William Henry</td>\n",
       "      <td>male</td>\n",
       "      <td>35.0</td>\n",
       "      <td>0</td>\n",
       "      <td>0</td>\n",
       "      <td>373450</td>\n",
       "      <td>8.0500</td>\n",
       "      <td>NaN</td>\n",
       "      <td>S</td>\n",
       "    </tr>\n",
       "  </tbody>\n",
       "</table>\n",
       "</div>"
      ],
      "text/plain": [
       "   PassengerId  Survived  Pclass  \\\n",
       "0            1         0       3   \n",
       "1            2         1       1   \n",
       "2            3         1       3   \n",
       "3            4         1       1   \n",
       "4            5         0       3   \n",
       "\n",
       "                                                Name     Sex   Age  SibSp  \\\n",
       "0                            Braund, Mr. Owen Harris    male  22.0      1   \n",
       "1  Cumings, Mrs. John Bradley (Florence Briggs Th...  female  38.0      1   \n",
       "2                             Heikkinen, Miss. Laina  female  26.0      0   \n",
       "3       Futrelle, Mrs. Jacques Heath (Lily May Peel)  female  35.0      1   \n",
       "4                           Allen, Mr. William Henry    male  35.0      0   \n",
       "\n",
       "   Parch            Ticket     Fare Cabin Embarked  \n",
       "0      0         A/5 21171   7.2500   NaN        S  \n",
       "1      0          PC 17599  71.2833   C85        C  \n",
       "2      0  STON/O2. 3101282   7.9250   NaN        S  \n",
       "3      0            113803  53.1000  C123        S  \n",
       "4      0            373450   8.0500   NaN        S  "
      ]
     },
     "execution_count": 25,
     "metadata": {},
     "output_type": "execute_result"
    }
   ],
   "source": [
    "train.head()"
   ]
  },
  {
   "cell_type": "code",
   "execution_count": 26,
   "metadata": {},
   "outputs": [
    {
     "data": {
      "text/plain": [
       "PassengerId      0\n",
       "Survived         0\n",
       "Pclass           0\n",
       "Name             0\n",
       "Sex              0\n",
       "Age            177\n",
       "SibSp            0\n",
       "Parch            0\n",
       "Ticket           0\n",
       "Fare             0\n",
       "Cabin          687\n",
       "Embarked         2\n",
       "dtype: int64"
      ]
     },
     "execution_count": 26,
     "metadata": {},
     "output_type": "execute_result"
    }
   ],
   "source": [
    "#checking missing data\n",
    "train.isnull().sum()"
   ]
  },
  {
   "cell_type": "code",
   "execution_count": 27,
   "metadata": {},
   "outputs": [
    {
     "data": {
      "text/plain": [
       "(891, 12)"
      ]
     },
     "execution_count": 27,
     "metadata": {},
     "output_type": "execute_result"
    }
   ],
   "source": [
    "train.shape"
   ]
  },
  {
   "cell_type": "code",
   "execution_count": 28,
   "metadata": {},
   "outputs": [
    {
     "data": {
      "text/plain": [
       "77.10437710437711"
      ]
     },
     "execution_count": 28,
     "metadata": {},
     "output_type": "execute_result"
    }
   ],
   "source": [
    "# Percentage of missing values in cabin column\n",
    "687*100/891"
   ]
  },
  {
   "cell_type": "markdown",
   "metadata": {},
   "source": [
    "### Exploratory data analysis"
   ]
  },
  {
   "cell_type": "code",
   "execution_count": 29,
   "metadata": {},
   "outputs": [
    {
     "data": {
      "image/png": "[encoded data removed]",
      "text/plain": [
       "<Figure size 432x288 with 1 Axes>"
      ]
     },
     "metadata": {
      "needs_background": "light"
     },
     "output_type": "display_data"
    }
   ],
   "source": [
    "sns.countplot(x='Survived',data=train)\n",
    "plt.show()"
   ]
  },
  {
   "cell_type": "code",
   "execution_count": 30,
   "metadata": {},
   "outputs": [
    {
     "data": {
      "image/png": "[encoded data removed]",
      "text/plain": [
       "<Figure size 432x288 with 1 Axes>"
      ]
     },
     "metadata": {
      "needs_background": "light"
     },
     "output_type": "display_data"
    }
   ],
   "source": [
    "### Gender vs Survival rate\n",
    "sns.countplot(x='Survived',hue='Sex',data=train)\n",
    "plt.show()"
   ]
  },
  {
   "cell_type": "code",
   "execution_count": 31,
   "metadata": {},
   "outputs": [
    {
     "data": {
      "image/png": "[encoded data removed]",
      "text/plain": [
       "<Figure size 432x288 with 1 Axes>"
      ]
     },
     "metadata": {
      "needs_background": "light"
     },
     "output_type": "display_data"
    }
   ],
   "source": [
    "### Pclass vs Survival rate\n",
    "sns.countplot(x='Survived',hue='Pclass',data=train)\n",
    "plt.show()"
   ]
  },
  {
   "cell_type": "code",
   "execution_count": 32,
   "metadata": {},
   "outputs": [
    {
     "data": {
      "image/png": "[encoded data removed]",
      "text/plain": [
       "<Figure size 432x288 with 1 Axes>"
      ]
     },
     "metadata": {
      "needs_background": "light"
     },
     "output_type": "display_data"
    }
   ],
   "source": [
    "### Age Distribution\n",
    "sns.distplot(train['Age'].dropna(),kde=True,bins=30)\n",
    "plt.show()"
   ]
  },
  {
   "cell_type": "code",
   "execution_count": 33,
   "metadata": {},
   "outputs": [
    {
     "data": {
      "image/png": "[encoded data removed]",
      "text/plain": [
       "<Figure size 432x288 with 1 Axes>"
      ]
     },
     "metadata": {
      "needs_background": "light"
     },
     "output_type": "display_data"
    }
   ],
   "source": [
    "### Number of siblings/Spouses aboard the titanic\n",
    "sns.countplot(x='SibSp',data=train)\n",
    "plt.show()"
   ]
  },
  {
   "cell_type": "code",
   "execution_count": 34,
   "metadata": {},
   "outputs": [
    {
     "data": {
      "image/png": "[encoded data removed]",
      "text/plain": [
       "<Figure size 576x288 with 1 Axes>"
      ]
     },
     "metadata": {
      "needs_background": "light"
     },
     "output_type": "display_data"
    }
   ],
   "source": [
    "### Passenger Fare\n",
    "train['Fare'].hist(color='green',bins=40,figsize=(8,4))\n",
    "plt.show()"
   ]
  },
  {
   "cell_type": "code",
   "execution_count": 35,
   "metadata": {},
   "outputs": [
    {
     "data": {
      "image/png": "[encoded data removed]",
      "text/plain": [
       "<Figure size 864x504 with 1 Axes>"
      ]
     },
     "metadata": {
      "needs_background": "light"
     },
     "output_type": "display_data"
    }
   ],
   "source": [
    "#Age vs Passenger class distribution\n",
    "plt.figure(figsize=(12,7))\n",
    "sns.boxplot(x='Pclass',y='Age',data=train)\n",
    "plt.show()"
   ]
  },
  {
   "cell_type": "markdown",
   "metadata": {},
   "source": [
    "### Data Cleaning"
   ]
  },
  {
   "cell_type": "code",
   "execution_count": 36,
   "metadata": {},
   "outputs": [],
   "source": [
    "# Function to fill the missing values of Age column\n",
    "def impute_age(cols):\n",
    "    Age=cols[0]\n",
    "    Pclass=cols[1]\n",
    "    if (pd.isnull(Age)):\n",
    "        if(Pclass==1):\n",
    "            return 37\n",
    "        elif(Pclass==2):\n",
    "            return 29\n",
    "        else:\n",
    "            return 24\n",
    "    else:\n",
    "        return Age   \n",
    "    "
   ]
  },
  {
   "cell_type": "code",
   "execution_count": 37,
   "metadata": {},
   "outputs": [],
   "source": [
    "train['Age']= train[['Age','Pclass']].apply(impute_age,axis=1)"
   ]
  },
  {
   "cell_type": "code",
   "execution_count": 38,
   "metadata": {},
   "outputs": [
    {
     "data": {
      "text/plain": [
       "PassengerId      0\n",
       "Survived         0\n",
       "Pclass           0\n",
       "Name             0\n",
       "Sex              0\n",
       "Age              0\n",
       "SibSp            0\n",
       "Parch            0\n",
       "Ticket           0\n",
       "Fare             0\n",
       "Cabin          687\n",
       "Embarked         2\n",
       "dtype: int64"
      ]
     },
     "execution_count": 38,
     "metadata": {},
     "output_type": "execute_result"
    }
   ],
   "source": [
    "train.isnull().sum()"
   ]
  },
  {
   "cell_type": "code",
   "execution_count": 39,
   "metadata": {},
   "outputs": [
    {
     "data": {
      "text/html": [
       "<div>\n",
       "<style scoped>\n",
       "    .dataframe tbody tr th:only-of-type {\n",
       "        vertical-align: middle;\n",
       "    }\n",
       "\n",
       "    .dataframe tbody tr th {\n",
       "        vertical-align: top;\n",
       "    }\n",
       "\n",
       "    .dataframe thead th {\n",
       "        text-align: right;\n",
       "    }\n",
       "</style>\n",
       "<table border=\"1\" class=\"dataframe\">\n",
       "  <thead>\n",
       "    <tr style=\"text-align: right;\">\n",
       "      <th></th>\n",
       "      <th>PassengerId</th>\n",
       "      <th>Survived</th>\n",
       "      <th>Pclass</th>\n",
       "      <th>Age</th>\n",
       "      <th>SibSp</th>\n",
       "      <th>Parch</th>\n",
       "      <th>Fare</th>\n",
       "    </tr>\n",
       "  </thead>\n",
       "  <tbody>\n",
       "    <tr>\n",
       "      <th>count</th>\n",
       "      <td>891.000000</td>\n",
       "      <td>891.000000</td>\n",
       "      <td>891.000000</td>\n",
       "      <td>891.000000</td>\n",
       "      <td>891.000000</td>\n",
       "      <td>891.000000</td>\n",
       "      <td>891.000000</td>\n",
       "    </tr>\n",
       "    <tr>\n",
       "      <th>mean</th>\n",
       "      <td>446.000000</td>\n",
       "      <td>0.383838</td>\n",
       "      <td>2.308642</td>\n",
       "      <td>29.066409</td>\n",
       "      <td>0.523008</td>\n",
       "      <td>0.381594</td>\n",
       "      <td>32.204208</td>\n",
       "    </tr>\n",
       "    <tr>\n",
       "      <th>std</th>\n",
       "      <td>257.353842</td>\n",
       "      <td>0.486592</td>\n",
       "      <td>0.836071</td>\n",
       "      <td>13.244532</td>\n",
       "      <td>1.102743</td>\n",
       "      <td>0.806057</td>\n",
       "      <td>49.693429</td>\n",
       "    </tr>\n",
       "    <tr>\n",
       "      <th>min</th>\n",
       "      <td>1.000000</td>\n",
       "      <td>0.000000</td>\n",
       "      <td>1.000000</td>\n",
       "      <td>0.420000</td>\n",
       "      <td>0.000000</td>\n",
       "      <td>0.000000</td>\n",
       "      <td>0.000000</td>\n",
       "    </tr>\n",
       "    <tr>\n",
       "      <th>25%</th>\n",
       "      <td>223.500000</td>\n",
       "      <td>0.000000</td>\n",
       "      <td>2.000000</td>\n",
       "      <td>22.000000</td>\n",
       "      <td>0.000000</td>\n",
       "      <td>0.000000</td>\n",
       "      <td>7.910400</td>\n",
       "    </tr>\n",
       "    <tr>\n",
       "      <th>50%</th>\n",
       "      <td>446.000000</td>\n",
       "      <td>0.000000</td>\n",
       "      <td>3.000000</td>\n",
       "      <td>26.000000</td>\n",
       "      <td>0.000000</td>\n",
       "      <td>0.000000</td>\n",
       "      <td>14.454200</td>\n",
       "    </tr>\n",
       "    <tr>\n",
       "      <th>75%</th>\n",
       "      <td>668.500000</td>\n",
       "      <td>1.000000</td>\n",
       "      <td>3.000000</td>\n",
       "      <td>37.000000</td>\n",
       "      <td>1.000000</td>\n",
       "      <td>0.000000</td>\n",
       "      <td>31.000000</td>\n",
       "    </tr>\n",
       "    <tr>\n",
       "      <th>max</th>\n",
       "      <td>891.000000</td>\n",
       "      <td>1.000000</td>\n",
       "      <td>3.000000</td>\n",
       "      <td>80.000000</td>\n",
       "      <td>8.000000</td>\n",
       "      <td>6.000000</td>\n",
       "      <td>512.329200</td>\n",
       "    </tr>\n",
       "  </tbody>\n",
       "</table>\n",
       "</div>"
      ],
      "text/plain": [
       "       PassengerId    Survived      Pclass         Age       SibSp  \\\n",
       "count   891.000000  891.000000  891.000000  891.000000  891.000000   \n",
       "mean    446.000000    0.383838    2.308642   29.066409    0.523008   \n",
       "std     257.353842    0.486592    0.836071   13.244532    1.102743   \n",
       "min       1.000000    0.000000    1.000000    0.420000    0.000000   \n",
       "25%     223.500000    0.000000    2.000000   22.000000    0.000000   \n",
       "50%     446.000000    0.000000    3.000000   26.000000    0.000000   \n",
       "75%     668.500000    1.000000    3.000000   37.000000    1.000000   \n",
       "max     891.000000    1.000000    3.000000   80.000000    8.000000   \n",
       "\n",
       "            Parch        Fare  \n",
       "count  891.000000  891.000000  \n",
       "mean     0.381594   32.204208  \n",
       "std      0.806057   49.693429  \n",
       "min      0.000000    0.000000  \n",
       "25%      0.000000    7.910400  \n",
       "50%      0.000000   14.454200  \n",
       "75%      0.000000   31.000000  \n",
       "max      6.000000  512.329200  "
      ]
     },
     "execution_count": 39,
     "metadata": {},
     "output_type": "execute_result"
    }
   ],
   "source": [
    "train.describe()"
   ]
  },
  {
   "cell_type": "code",
   "execution_count": 40,
   "metadata": {},
   "outputs": [],
   "source": [
    "train.drop('Cabin',axis=1,inplace=True)"
   ]
  },
  {
   "cell_type": "code",
   "execution_count": 41,
   "metadata": {},
   "outputs": [
    {
     "data": {
      "text/html": [
       "<div>\n",
       "<style scoped>\n",
       "    .dataframe tbody tr th:only-of-type {\n",
       "        vertical-align: middle;\n",
       "    }\n",
       "\n",
       "    .dataframe tbody tr th {\n",
       "        vertical-align: top;\n",
       "    }\n",
       "\n",
       "    .dataframe thead th {\n",
       "        text-align: right;\n",
       "    }\n",
       "</style>\n",
       "<table border=\"1\" class=\"dataframe\">\n",
       "  <thead>\n",
       "    <tr style=\"text-align: right;\">\n",
       "      <th></th>\n",
       "      <th>PassengerId</th>\n",
       "      <th>Survived</th>\n",
       "      <th>Pclass</th>\n",
       "      <th>Name</th>\n",
       "      <th>Sex</th>\n",
       "      <th>Age</th>\n",
       "      <th>SibSp</th>\n",
       "      <th>Parch</th>\n",
       "      <th>Ticket</th>\n",
       "      <th>Fare</th>\n",
       "      <th>Embarked</th>\n",
       "    </tr>\n",
       "  </thead>\n",
       "  <tbody>\n",
       "    <tr>\n",
       "      <th>0</th>\n",
       "      <td>1</td>\n",
       "      <td>0</td>\n",
       "      <td>3</td>\n",
       "      <td>Braund, Mr. Owen Harris</td>\n",
       "      <td>male</td>\n",
       "      <td>22.0</td>\n",
       "      <td>1</td>\n",
       "      <td>0</td>\n",
       "      <td>A/5 21171</td>\n",
       "      <td>7.2500</td>\n",
       "      <td>S</td>\n",
       "    </tr>\n",
       "    <tr>\n",
       "      <th>1</th>\n",
       "      <td>2</td>\n",
       "      <td>1</td>\n",
       "      <td>1</td>\n",
       "      <td>Cumings, Mrs. John Bradley (Florence Briggs Th...</td>\n",
       "      <td>female</td>\n",
       "      <td>38.0</td>\n",
       "      <td>1</td>\n",
       "      <td>0</td>\n",
       "      <td>PC 17599</td>\n",
       "      <td>71.2833</td>\n",
       "      <td>C</td>\n",
       "    </tr>\n",
       "    <tr>\n",
       "      <th>2</th>\n",
       "      <td>3</td>\n",
       "      <td>1</td>\n",
       "      <td>3</td>\n",
       "      <td>Heikkinen, Miss. Laina</td>\n",
       "      <td>female</td>\n",
       "      <td>26.0</td>\n",
       "      <td>0</td>\n",
       "      <td>0</td>\n",
       "      <td>STON/O2. 3101282</td>\n",
       "      <td>7.9250</td>\n",
       "      <td>S</td>\n",
       "    </tr>\n",
       "    <tr>\n",
       "      <th>3</th>\n",
       "      <td>4</td>\n",
       "      <td>1</td>\n",
       "      <td>1</td>\n",
       "      <td>Futrelle, Mrs. Jacques Heath (Lily May Peel)</td>\n",
       "      <td>female</td>\n",
       "      <td>35.0</td>\n",
       "      <td>1</td>\n",
       "      <td>0</td>\n",
       "      <td>113803</td>\n",
       "      <td>53.1000</td>\n",
       "      <td>S</td>\n",
       "    </tr>\n",
       "    <tr>\n",
       "      <th>4</th>\n",
       "      <td>5</td>\n",
       "      <td>0</td>\n",
       "      <td>3</td>\n",
       "      <td>Allen, Mr. William Henry</td>\n",
       "      <td>male</td>\n",
       "      <td>35.0</td>\n",
       "      <td>0</td>\n",
       "      <td>0</td>\n",
       "      <td>373450</td>\n",
       "      <td>8.0500</td>\n",
       "      <td>S</td>\n",
       "    </tr>\n",
       "  </tbody>\n",
       "</table>\n",
       "</div>"
      ],
      "text/plain": [
       "   PassengerId  Survived  Pclass  \\\n",
       "0            1         0       3   \n",
       "1            2         1       1   \n",
       "2            3         1       3   \n",
       "3            4         1       1   \n",
       "4            5         0       3   \n",
       "\n",
       "                                                Name     Sex   Age  SibSp  \\\n",
       "0                            Braund, Mr. Owen Harris    male  22.0      1   \n",
       "1  Cumings, Mrs. John Bradley (Florence Briggs Th...  female  38.0      1   \n",
       "2                             Heikkinen, Miss. Laina  female  26.0      0   \n",
       "3       Futrelle, Mrs. Jacques Heath (Lily May Peel)  female  35.0      1   \n",
       "4                           Allen, Mr. William Henry    male  35.0      0   \n",
       "\n",
       "   Parch            Ticket     Fare Embarked  \n",
       "0      0         A/5 21171   7.2500        S  \n",
       "1      0          PC 17599  71.2833        C  \n",
       "2      0  STON/O2. 3101282   7.9250        S  \n",
       "3      0            113803  53.1000        S  \n",
       "4      0            373450   8.0500        S  "
      ]
     },
     "execution_count": 41,
     "metadata": {},
     "output_type": "execute_result"
    }
   ],
   "source": [
    "train.head()"
   ]
  },
  {
   "cell_type": "code",
   "execution_count": 42,
   "metadata": {},
   "outputs": [],
   "source": [
    "# Filling missing values of embarked column with mode\n",
    "train['Embarked']=train['Embarked'].fillna(train['Embarked'].mode()[0])"
   ]
  },
  {
   "cell_type": "code",
   "execution_count": 43,
   "metadata": {},
   "outputs": [
    {
     "data": {
      "text/plain": [
       "PassengerId    0\n",
       "Survived       0\n",
       "Pclass         0\n",
       "Name           0\n",
       "Sex            0\n",
       "Age            0\n",
       "SibSp          0\n",
       "Parch          0\n",
       "Ticket         0\n",
       "Fare           0\n",
       "Embarked       0\n",
       "dtype: int64"
      ]
     },
     "execution_count": 43,
     "metadata": {},
     "output_type": "execute_result"
    }
   ],
   "source": [
    "train.isnull().sum()"
   ]
  },
  {
   "cell_type": "code",
   "execution_count": 44,
   "metadata": {},
   "outputs": [],
   "source": [
    "sex = pd.get_dummies(train['Sex'],drop_first=True)\n",
    "embark = pd.get_dummies(train['Embarked'],drop_first=True)"
   ]
  },
  {
   "cell_type": "code",
   "execution_count": 45,
   "metadata": {},
   "outputs": [],
   "source": [
    "train = pd.concat([train,sex,embark],axis=1)"
   ]
  },
  {
   "cell_type": "code",
   "execution_count": 46,
   "metadata": {},
   "outputs": [
    {
     "data": {
      "text/html": [
       "<div>\n",
       "<style scoped>\n",
       "    .dataframe tbody tr th:only-of-type {\n",
       "        vertical-align: middle;\n",
       "    }\n",
       "\n",
       "    .dataframe tbody tr th {\n",
       "        vertical-align: top;\n",
       "    }\n",
       "\n",
       "    .dataframe thead th {\n",
       "        text-align: right;\n",
       "    }\n",
       "</style>\n",
       "<table border=\"1\" class=\"dataframe\">\n",
       "  <thead>\n",
       "    <tr style=\"text-align: right;\">\n",
       "      <th></th>\n",
       "      <th>PassengerId</th>\n",
       "      <th>Survived</th>\n",
       "      <th>Pclass</th>\n",
       "      <th>Name</th>\n",
       "      <th>Sex</th>\n",
       "      <th>Age</th>\n",
       "      <th>SibSp</th>\n",
       "      <th>Parch</th>\n",
       "      <th>Ticket</th>\n",
       "      <th>Fare</th>\n",
       "      <th>Embarked</th>\n",
       "      <th>male</th>\n",
       "      <th>Q</th>\n",
       "      <th>S</th>\n",
       "    </tr>\n",
       "  </thead>\n",
       "  <tbody>\n",
       "    <tr>\n",
       "      <th>0</th>\n",
       "      <td>1</td>\n",
       "      <td>0</td>\n",
       "      <td>3</td>\n",
       "      <td>Braund, Mr. Owen Harris</td>\n",
       "      <td>male</td>\n",
       "      <td>22.0</td>\n",
       "      <td>1</td>\n",
       "      <td>0</td>\n",
       "      <td>A/5 21171</td>\n",
       "      <td>7.2500</td>\n",
       "      <td>S</td>\n",
       "      <td>1</td>\n",
       "      <td>0</td>\n",
       "      <td>1</td>\n",
       "    </tr>\n",
       "    <tr>\n",
       "      <th>1</th>\n",
       "      <td>2</td>\n",
       "      <td>1</td>\n",
       "      <td>1</td>\n",
       "      <td>Cumings, Mrs. John Bradley (Florence Briggs Th...</td>\n",
       "      <td>female</td>\n",
       "      <td>38.0</td>\n",
       "      <td>1</td>\n",
       "      <td>0</td>\n",
       "      <td>PC 17599</td>\n",
       "      <td>71.2833</td>\n",
       "      <td>C</td>\n",
       "      <td>0</td>\n",
       "      <td>0</td>\n",
       "      <td>0</td>\n",
       "    </tr>\n",
       "    <tr>\n",
       "      <th>2</th>\n",
       "      <td>3</td>\n",
       "      <td>1</td>\n",
       "      <td>3</td>\n",
       "      <td>Heikkinen, Miss. Laina</td>\n",
       "      <td>female</td>\n",
       "      <td>26.0</td>\n",
       "      <td>0</td>\n",
       "      <td>0</td>\n",
       "      <td>STON/O2. 3101282</td>\n",
       "      <td>7.9250</td>\n",
       "      <td>S</td>\n",
       "      <td>0</td>\n",
       "      <td>0</td>\n",
       "      <td>1</td>\n",
       "    </tr>\n",
       "    <tr>\n",
       "      <th>3</th>\n",
       "      <td>4</td>\n",
       "      <td>1</td>\n",
       "      <td>1</td>\n",
       "      <td>Futrelle, Mrs. Jacques Heath (Lily May Peel)</td>\n",
       "      <td>female</td>\n",
       "      <td>35.0</td>\n",
       "      <td>1</td>\n",
       "      <td>0</td>\n",
       "      <td>113803</td>\n",
       "      <td>53.1000</td>\n",
       "      <td>S</td>\n",
       "      <td>0</td>\n",
       "      <td>0</td>\n",
       "      <td>1</td>\n",
       "    </tr>\n",
       "    <tr>\n",
       "      <th>4</th>\n",
       "      <td>5</td>\n",
       "      <td>0</td>\n",
       "      <td>3</td>\n",
       "      <td>Allen, Mr. William Henry</td>\n",
       "      <td>male</td>\n",
       "      <td>35.0</td>\n",
       "      <td>0</td>\n",
       "      <td>0</td>\n",
       "      <td>373450</td>\n",
       "      <td>8.0500</td>\n",
       "      <td>S</td>\n",
       "      <td>1</td>\n",
       "      <td>0</td>\n",
       "      <td>1</td>\n",
       "    </tr>\n",
       "  </tbody>\n",
       "</table>\n",
       "</div>"
      ],
      "text/plain": [
       "   PassengerId  Survived  Pclass  \\\n",
       "0            1         0       3   \n",
       "1            2         1       1   \n",
       "2            3         1       3   \n",
       "3            4         1       1   \n",
       "4            5         0       3   \n",
       "\n",
       "                                                Name     Sex   Age  SibSp  \\\n",
       "0                            Braund, Mr. Owen Harris    male  22.0      1   \n",
       "1  Cumings, Mrs. John Bradley (Florence Briggs Th...  female  38.0      1   \n",
       "2                             Heikkinen, Miss. Laina  female  26.0      0   \n",
       "3       Futrelle, Mrs. Jacques Heath (Lily May Peel)  female  35.0      1   \n",
       "4                           Allen, Mr. William Henry    male  35.0      0   \n",
       "\n",
       "   Parch            Ticket     Fare Embarked  male  Q  S  \n",
       "0      0         A/5 21171   7.2500        S     1  0  1  \n",
       "1      0          PC 17599  71.2833        C     0  0  0  \n",
       "2      0  STON/O2. 3101282   7.9250        S     0  0  1  \n",
       "3      0            113803  53.1000        S     0  0  1  \n",
       "4      0            373450   8.0500        S     1  0  1  "
      ]
     },
     "execution_count": 46,
     "metadata": {},
     "output_type": "execute_result"
    }
   ],
   "source": [
    "train.head()"
   ]
  },
  {
   "cell_type": "code",
   "execution_count": 47,
   "metadata": {},
   "outputs": [],
   "source": [
    "# Dropping un-necessary columns\n",
    "train.drop(['Sex','Embarked','Name','Ticket','PassengerId'],axis=1,inplace=True)"
   ]
  },
  {
   "cell_type": "code",
   "execution_count": 48,
   "metadata": {},
   "outputs": [
    {
     "data": {
      "text/html": [
       "<div>\n",
       "<style scoped>\n",
       "    .dataframe tbody tr th:only-of-type {\n",
       "        vertical-align: middle;\n",
       "    }\n",
       "\n",
       "    .dataframe tbody tr th {\n",
       "        vertical-align: top;\n",
       "    }\n",
       "\n",
       "    .dataframe thead th {\n",
       "        text-align: right;\n",
       "    }\n",
       "</style>\n",
       "<table border=\"1\" class=\"dataframe\">\n",
       "  <thead>\n",
       "    <tr style=\"text-align: right;\">\n",
       "      <th></th>\n",
       "      <th>Survived</th>\n",
       "      <th>Pclass</th>\n",
       "      <th>Age</th>\n",
       "      <th>SibSp</th>\n",
       "      <th>Parch</th>\n",
       "      <th>Fare</th>\n",
       "      <th>male</th>\n",
       "      <th>Q</th>\n",
       "      <th>S</th>\n",
       "    </tr>\n",
       "  </thead>\n",
       "  <tbody>\n",
       "    <tr>\n",
       "      <th>0</th>\n",
       "      <td>0</td>\n",
       "      <td>3</td>\n",
       "      <td>22.0</td>\n",
       "      <td>1</td>\n",
       "      <td>0</td>\n",
       "      <td>7.2500</td>\n",
       "      <td>1</td>\n",
       "      <td>0</td>\n",
       "      <td>1</td>\n",
       "    </tr>\n",
       "    <tr>\n",
       "      <th>1</th>\n",
       "      <td>1</td>\n",
       "      <td>1</td>\n",
       "      <td>38.0</td>\n",
       "      <td>1</td>\n",
       "      <td>0</td>\n",
       "      <td>71.2833</td>\n",
       "      <td>0</td>\n",
       "      <td>0</td>\n",
       "      <td>0</td>\n",
       "    </tr>\n",
       "    <tr>\n",
       "      <th>2</th>\n",
       "      <td>1</td>\n",
       "      <td>3</td>\n",
       "      <td>26.0</td>\n",
       "      <td>0</td>\n",
       "      <td>0</td>\n",
       "      <td>7.9250</td>\n",
       "      <td>0</td>\n",
       "      <td>0</td>\n",
       "      <td>1</td>\n",
       "    </tr>\n",
       "    <tr>\n",
       "      <th>3</th>\n",
       "      <td>1</td>\n",
       "      <td>1</td>\n",
       "      <td>35.0</td>\n",
       "      <td>1</td>\n",
       "      <td>0</td>\n",
       "      <td>53.1000</td>\n",
       "      <td>0</td>\n",
       "      <td>0</td>\n",
       "      <td>1</td>\n",
       "    </tr>\n",
       "    <tr>\n",
       "      <th>4</th>\n",
       "      <td>0</td>\n",
       "      <td>3</td>\n",
       "      <td>35.0</td>\n",
       "      <td>0</td>\n",
       "      <td>0</td>\n",
       "      <td>8.0500</td>\n",
       "      <td>1</td>\n",
       "      <td>0</td>\n",
       "      <td>1</td>\n",
       "    </tr>\n",
       "  </tbody>\n",
       "</table>\n",
       "</div>"
      ],
      "text/plain": [
       "   Survived  Pclass   Age  SibSp  Parch     Fare  male  Q  S\n",
       "0         0       3  22.0      1      0   7.2500     1  0  1\n",
       "1         1       1  38.0      1      0  71.2833     0  0  0\n",
       "2         1       3  26.0      0      0   7.9250     0  0  1\n",
       "3         1       1  35.0      1      0  53.1000     0  0  1\n",
       "4         0       3  35.0      0      0   8.0500     1  0  1"
      ]
     },
     "execution_count": 48,
     "metadata": {},
     "output_type": "execute_result"
    }
   ],
   "source": [
    "train.head()"
   ]
  },
  {
   "cell_type": "code",
   "execution_count": 49,
   "metadata": {},
   "outputs": [],
   "source": [
    "#Train and test split\n",
    "from sklearn.model_selection import train_test_split\n",
    "X_train,X_test,y_train,y_test = train_test_split(train.drop('Survived',axis=1),train['Survived'],test_size=0.3,random_state=101)"
   ]
  },
  {
   "cell_type": "markdown",
   "metadata": {},
   "source": [
    "### Building a logistic regression model"
   ]
  },
  {
   "cell_type": "code",
   "execution_count": 50,
   "metadata": {},
   "outputs": [
    {
     "name": "stderr",
     "output_type": "stream",
     "text": [
      "/Users/debasmitamohanty/opt/anaconda3/lib/python3.7/site-packages/sklearn/linear_model/_logistic.py:764: ConvergenceWarning: lbfgs failed to converge (status=1):\n",
      "STOP: TOTAL NO. of ITERATIONS REACHED LIMIT.\n",
      "\n",
      "Increase the number of iterations (max_iter) or scale the data as shown in:\n",
      "    https://scikit-learn.org/stable/modules/preprocessing.html\n",
      "Please also refer to the documentation for alternative solver options:\n",
      "    https://scikit-learn.org/stable/modules/linear_model.html#logistic-regression\n",
      "  extra_warning_msg=_LOGISTIC_SOLVER_CONVERGENCE_MSG)\n"
     ]
    },
    {
     "data": {
      "text/plain": [
       "LogisticRegression()"
      ]
     },
     "execution_count": 50,
     "metadata": {},
     "output_type": "execute_result"
    }
   ],
   "source": [
    "# Using sklearn library\n",
    "from sklearn.linear_model import LogisticRegression\n",
    "logmodel = LogisticRegression()\n",
    "logmodel.fit(X_train,y_train)"
   ]
  },
  {
   "cell_type": "markdown",
   "metadata": {},
   "source": [
    "### Fitting the logistic regression using stats model"
   ]
  },
  {
   "cell_type": "code",
   "execution_count": 51,
   "metadata": {},
   "outputs": [
    {
     "name": "stdout",
     "output_type": "stream",
     "text": [
      "Optimization terminated successfully.\n",
      "         Current function value: 0.475128\n",
      "         Iterations 6\n",
      "                           Logit Regression Results                           \n",
      "==============================================================================\n",
      "Dep. Variable:               Survived   No. Observations:                  623\n",
      "Model:                          Logit   Df Residuals:                      615\n",
      "Method:                           MLE   Df Model:                            7\n",
      "Date:                Wed, 25 Aug 2021   Pseudo R-squ.:                  0.2766\n",
      "Time:                        22:13:08   Log-Likelihood:                -296.00\n",
      "converged:                       True   LL-Null:                       -409.17\n",
      "Covariance Type:            nonrobust   LLR p-value:                 2.982e-45\n",
      "==============================================================================\n",
      "                 coef    std err          z      P>|z|      [0.025      0.975]\n",
      "------------------------------------------------------------------------------\n",
      "Pclass         0.0497      0.101      0.490      0.624      -0.149       0.249\n",
      "Age            0.0044      0.007      0.610      0.542      -0.010       0.018\n",
      "SibSp         -0.2790      0.112     -2.497      0.013      -0.498      -0.060\n",
      "Parch         -0.1512      0.134     -1.129      0.259      -0.414       0.111\n",
      "Fare           0.0206      0.004      5.095      0.000       0.013       0.029\n",
      "male          -2.4092      0.220    -10.935      0.000      -2.841      -1.977\n",
      "Q              0.2535      0.431      0.589      0.556      -0.590       1.097\n",
      "S              0.1723      0.267      0.646      0.518      -0.350       0.695\n",
      "==============================================================================\n"
     ]
    }
   ],
   "source": [
    "import statsmodels.api as sm\n",
    "logit_model = sm.Logit(y_train,X_train)\n",
    "result = logit_model.fit()\n",
    "print(result.summary())"
   ]
  },
  {
   "cell_type": "code",
   "execution_count": 63,
   "metadata": {},
   "outputs": [
    {
     "data": {
      "text/plain": [
       "Index(['Survived', 'Pclass', 'Age', 'SibSp', 'Parch', 'Fare', 'male', 'Q',\n",
       "       'S'],\n",
       "      dtype='object')"
      ]
     },
     "execution_count": 63,
     "metadata": {},
     "output_type": "execute_result"
    }
   ],
   "source": [
    "train.columns"
   ]
  },
  {
   "cell_type": "code",
   "execution_count": 64,
   "metadata": {},
   "outputs": [
    {
     "name": "stdout",
     "output_type": "stream",
     "text": [
      "Optimization terminated successfully.\n",
      "         Current function value: 0.475128\n",
      "         Iterations 6\n",
      "                           Logit Regression Results                           \n",
      "==============================================================================\n",
      "Dep. Variable:               Survived   No. Observations:                  623\n",
      "Model:                          Logit   Df Residuals:                      615\n",
      "Method:                           MLE   Df Model:                            7\n",
      "Date:                Thu, 26 Aug 2021   Pseudo R-squ.:                  0.2766\n",
      "Time:                        20:08:48   Log-Likelihood:                -296.00\n",
      "converged:                       True   LL-Null:                       -409.17\n",
      "Covariance Type:            nonrobust   LLR p-value:                 2.982e-45\n",
      "==============================================================================\n",
      "                 coef    std err          z      P>|z|      [0.025      0.975]\n",
      "------------------------------------------------------------------------------\n",
      "Pclass         0.0497      0.101      0.490      0.624      -0.149       0.249\n",
      "Age            0.0044      0.007      0.610      0.542      -0.010       0.018\n",
      "SibSp         -0.2790      0.112     -2.497      0.013      -0.498      -0.060\n",
      "Parch         -0.1512      0.134     -1.129      0.259      -0.414       0.111\n",
      "Fare           0.0206      0.004      5.095      0.000       0.013       0.029\n",
      "male          -2.4092      0.220    -10.935      0.000      -2.841      -1.977\n",
      "Q              0.2535      0.431      0.589      0.556      -0.590       1.097\n",
      "S              0.1723      0.267      0.646      0.518      -0.350       0.695\n",
      "==============================================================================\n"
     ]
    }
   ],
   "source": [
    "import statsmodels.api as sm\n",
    "logit_model = sm.Logit(y_train,X_train)\n",
    "result = logit_model.fit()\n",
    "print(result.summary())"
   ]
  },
  {
   "cell_type": "code",
   "execution_count": 65,
   "metadata": {},
   "outputs": [
    {
     "data": {
      "text/plain": [
       "Pclass    0.049686\n",
       "Age       0.004371\n",
       "SibSp    -0.278993\n",
       "Parch    -0.151171\n",
       "Fare      0.020584\n",
       "male     -2.409216\n",
       "Q         0.253512\n",
       "S         0.172282\n",
       "dtype: float64"
      ]
     },
     "execution_count": 65,
     "metadata": {},
     "output_type": "execute_result"
    }
   ],
   "source": [
    "result.params"
   ]
  },
  {
   "cell_type": "markdown",
   "metadata": {},
   "source": [
    "# Checking VIF"
   ]
  },
  {
   "cell_type": "code",
   "execution_count": 66,
   "metadata": {},
   "outputs": [
    {
     "data": {
      "text/html": [
       "<div>\n",
       "<style scoped>\n",
       "    .dataframe tbody tr th:only-of-type {\n",
       "        vertical-align: middle;\n",
       "    }\n",
       "\n",
       "    .dataframe tbody tr th {\n",
       "        vertical-align: top;\n",
       "    }\n",
       "\n",
       "    .dataframe thead th {\n",
       "        text-align: right;\n",
       "    }\n",
       "</style>\n",
       "<table border=\"1\" class=\"dataframe\">\n",
       "  <thead>\n",
       "    <tr style=\"text-align: right;\">\n",
       "      <th></th>\n",
       "      <th>Features</th>\n",
       "      <th>VIF</th>\n",
       "    </tr>\n",
       "  </thead>\n",
       "  <tbody>\n",
       "    <tr>\n",
       "      <th>0</th>\n",
       "      <td>Pclass</td>\n",
       "      <td>6.27</td>\n",
       "    </tr>\n",
       "    <tr>\n",
       "      <th>7</th>\n",
       "      <td>S</td>\n",
       "      <td>4.77</td>\n",
       "    </tr>\n",
       "    <tr>\n",
       "      <th>1</th>\n",
       "      <td>Age</td>\n",
       "      <td>4.66</td>\n",
       "    </tr>\n",
       "    <tr>\n",
       "      <th>5</th>\n",
       "      <td>male</td>\n",
       "      <td>3.16</td>\n",
       "    </tr>\n",
       "    <tr>\n",
       "      <th>4</th>\n",
       "      <td>Fare</td>\n",
       "      <td>1.86</td>\n",
       "    </tr>\n",
       "    <tr>\n",
       "      <th>3</th>\n",
       "      <td>Parch</td>\n",
       "      <td>1.65</td>\n",
       "    </tr>\n",
       "    <tr>\n",
       "      <th>2</th>\n",
       "      <td>SibSp</td>\n",
       "      <td>1.64</td>\n",
       "    </tr>\n",
       "    <tr>\n",
       "      <th>6</th>\n",
       "      <td>Q</td>\n",
       "      <td>1.55</td>\n",
       "    </tr>\n",
       "  </tbody>\n",
       "</table>\n",
       "</div>"
      ],
      "text/plain": [
       "  Features   VIF\n",
       "0   Pclass  6.27\n",
       "7        S  4.77\n",
       "1      Age  4.66\n",
       "5     male  3.16\n",
       "4     Fare  1.86\n",
       "3    Parch  1.65\n",
       "2    SibSp  1.64\n",
       "6        Q  1.55"
      ]
     },
     "execution_count": 66,
     "metadata": {},
     "output_type": "execute_result"
    }
   ],
   "source": [
    "from statsmodels.stats.outliers_influence import variance_inflation_factor\n",
    "vif = pd.DataFrame()\n",
    "vif['Features']= X_train.columns\n",
    "vif['VIF'] = [variance_inflation_factor(X_train.values,i) for i in range(X_train.shape[1])]\n",
    "vif['VIF'] = round(vif['VIF'],2)\n",
    "vif = vif.sort_values(by='VIF',ascending=False)\n",
    "vif"
   ]
  },
  {
   "cell_type": "code",
   "execution_count": 70,
   "metadata": {},
   "outputs": [],
   "source": [
    "X_train = X_train.drop('Pclass',axis=1)"
   ]
  },
  {
   "cell_type": "code",
   "execution_count": 71,
   "metadata": {},
   "outputs": [
    {
     "name": "stdout",
     "output_type": "stream",
     "text": [
      "Optimization terminated successfully.\n",
      "         Current function value: 0.475321\n",
      "         Iterations 6\n",
      "                           Logit Regression Results                           \n",
      "==============================================================================\n",
      "Dep. Variable:               Survived   No. Observations:                  623\n",
      "Model:                          Logit   Df Residuals:                      616\n",
      "Method:                           MLE   Df Model:                            6\n",
      "Date:                Thu, 26 Aug 2021   Pseudo R-squ.:                  0.2763\n",
      "Time:                        20:49:53   Log-Likelihood:                -296.12\n",
      "converged:                       True   LL-Null:                       -409.17\n",
      "Covariance Type:            nonrobust   LLR p-value:                 5.218e-46\n",
      "==============================================================================\n",
      "                 coef    std err          z      P>|z|      [0.025      0.975]\n",
      "------------------------------------------------------------------------------\n",
      "Age            0.0054      0.007      0.785      0.433      -0.008       0.019\n",
      "SibSp         -0.2672      0.109     -2.459      0.014      -0.480      -0.054\n",
      "Parch         -0.1347      0.129     -1.041      0.298      -0.389       0.119\n",
      "Fare           0.0200      0.004      5.211      0.000       0.012       0.028\n",
      "male          -2.3814      0.213    -11.180      0.000      -2.799      -1.964\n",
      "Q              0.3597      0.372      0.968      0.333      -0.369       1.088\n",
      "S              0.2418      0.227      1.067      0.286      -0.202       0.686\n",
      "==============================================================================\n"
     ]
    }
   ],
   "source": [
    "import statsmodels.api as sm\n",
    "logit_model = sm.Logit(y_train,X_train)\n",
    "result_2 = logit_model.fit()\n",
    "print(result_2.summary())"
   ]
  },
  {
   "cell_type": "code",
   "execution_count": 72,
   "metadata": {},
   "outputs": [],
   "source": [
    "X_train = X_train.drop('Age',axis=1)"
   ]
  },
  {
   "cell_type": "code",
   "execution_count": 73,
   "metadata": {},
   "outputs": [
    {
     "name": "stdout",
     "output_type": "stream",
     "text": [
      "Optimization terminated successfully.\n",
      "         Current function value: 0.475813\n",
      "         Iterations 6\n",
      "                           Logit Regression Results                           \n",
      "==============================================================================\n",
      "Dep. Variable:               Survived   No. Observations:                  623\n",
      "Model:                          Logit   Df Residuals:                      617\n",
      "Method:                           MLE   Df Model:                            5\n",
      "Date:                Thu, 26 Aug 2021   Pseudo R-squ.:                  0.2755\n",
      "Time:                        20:51:33   Log-Likelihood:                -296.43\n",
      "converged:                       True   LL-Null:                       -409.17\n",
      "Covariance Type:            nonrobust   LLR p-value:                 9.950e-47\n",
      "==============================================================================\n",
      "                 coef    std err          z      P>|z|      [0.025      0.975]\n",
      "------------------------------------------------------------------------------\n",
      "SibSp         -0.2826      0.107     -2.650      0.008      -0.492      -0.074\n",
      "Parch         -0.1337      0.129     -1.036      0.300      -0.387       0.119\n",
      "Fare           0.0214      0.003      6.153      0.000       0.015       0.028\n",
      "male          -2.3343      0.204    -11.431      0.000      -2.735      -1.934\n",
      "Q              0.4650      0.346      1.343      0.179      -0.214       1.144\n",
      "S              0.3459      0.185      1.871      0.061      -0.017       0.708\n",
      "==============================================================================\n"
     ]
    }
   ],
   "source": [
    "import statsmodels.api as sm\n",
    "logit_model = sm.Logit(y_train,X_train)\n",
    "result_3 = logit_model.fit()\n",
    "print(result_3.summary())"
   ]
  },
  {
   "cell_type": "code",
   "execution_count": 74,
   "metadata": {},
   "outputs": [],
   "source": [
    "X_train= X_train.drop('Parch', axis = 1)"
   ]
  },
  {
   "cell_type": "code",
   "execution_count": 75,
   "metadata": {},
   "outputs": [
    {
     "name": "stdout",
     "output_type": "stream",
     "text": [
      "Optimization terminated successfully.\n",
      "         Current function value: 0.476669\n",
      "         Iterations 6\n",
      "                           Logit Regression Results                           \n",
      "==============================================================================\n",
      "Dep. Variable:               Survived   No. Observations:                  623\n",
      "Model:                          Logit   Df Residuals:                      618\n",
      "Method:                           MLE   Df Model:                            4\n",
      "Date:                Thu, 26 Aug 2021   Pseudo R-squ.:                  0.2742\n",
      "Time:                        20:53:22   Log-Likelihood:                -296.97\n",
      "converged:                       True   LL-Null:                       -409.17\n",
      "Covariance Type:            nonrobust   LLR p-value:                 2.104e-47\n",
      "==============================================================================\n",
      "                 coef    std err          z      P>|z|      [0.025      0.975]\n",
      "------------------------------------------------------------------------------\n",
      "SibSp         -0.3133      0.103     -3.047      0.002      -0.515      -0.112\n",
      "Fare           0.0205      0.003      6.151      0.000       0.014       0.027\n",
      "male          -2.2966      0.200    -11.507      0.000      -2.688      -1.905\n",
      "Q              0.4418      0.346      1.279      0.201      -0.235       1.119\n",
      "S              0.3073      0.181      1.702      0.089      -0.047       0.661\n",
      "==============================================================================\n"
     ]
    }
   ],
   "source": [
    "import statsmodels.api as sm\n",
    "logit_model = sm.Logit(y_train,X_train)\n",
    "result_4 = logit_model.fit()\n",
    "print(result_4.summary())"
   ]
  },
  {
   "cell_type": "code",
   "execution_count": 76,
   "metadata": {},
   "outputs": [],
   "source": [
    "X_train = X_train.drop('Q', axis = 1)"
   ]
  },
  {
   "cell_type": "code",
   "execution_count": 77,
   "metadata": {},
   "outputs": [
    {
     "name": "stdout",
     "output_type": "stream",
     "text": [
      "Optimization terminated successfully.\n",
      "         Current function value: 0.477977\n",
      "         Iterations 6\n",
      "                           Logit Regression Results                           \n",
      "==============================================================================\n",
      "Dep. Variable:               Survived   No. Observations:                  623\n",
      "Model:                          Logit   Df Residuals:                      619\n",
      "Method:                           MLE   Df Model:                            3\n",
      "Date:                Thu, 26 Aug 2021   Pseudo R-squ.:                  0.2722\n",
      "Time:                        20:54:56   Log-Likelihood:                -297.78\n",
      "converged:                       True   LL-Null:                       -409.17\n",
      "Covariance Type:            nonrobust   LLR p-value:                 5.023e-48\n",
      "==============================================================================\n",
      "                 coef    std err          z      P>|z|      [0.025      0.975]\n",
      "------------------------------------------------------------------------------\n",
      "SibSp         -0.3023      0.102     -2.970      0.003      -0.502      -0.103\n",
      "Fare           0.0207      0.003      6.193      0.000       0.014       0.027\n",
      "male          -2.2489      0.197    -11.442      0.000      -2.634      -1.864\n",
      "S              0.2682      0.178      1.509      0.131      -0.080       0.617\n",
      "==============================================================================\n"
     ]
    }
   ],
   "source": [
    "import statsmodels.api as sm\n",
    "logit_model = sm.Logit(y_train,X_train)\n",
    "result_5 = logit_model.fit()\n",
    "print(result_5.summary())"
   ]
  },
  {
   "cell_type": "code",
   "execution_count": 78,
   "metadata": {},
   "outputs": [
    {
     "name": "stdout",
     "output_type": "stream",
     "text": [
      "Optimization terminated successfully.\n",
      "         Current function value: 0.479839\n",
      "         Iterations 6\n",
      "                           Logit Regression Results                           \n",
      "==============================================================================\n",
      "Dep. Variable:               Survived   No. Observations:                  623\n",
      "Model:                          Logit   Df Residuals:                      620\n",
      "Method:                           MLE   Df Model:                            2\n",
      "Date:                Thu, 26 Aug 2021   Pseudo R-squ.:                  0.2694\n",
      "Time:                        20:56:02   Log-Likelihood:                -298.94\n",
      "converged:                       True   LL-Null:                       -409.17\n",
      "Covariance Type:            nonrobust   LLR p-value:                 1.339e-48\n",
      "==============================================================================\n",
      "                 coef    std err          z      P>|z|      [0.025      0.975]\n",
      "------------------------------------------------------------------------------\n",
      "SibSp         -0.2587      0.095     -2.716      0.007      -0.445      -0.072\n",
      "Fare           0.0217      0.003      6.527      0.000       0.015       0.028\n",
      "male          -2.0883      0.164    -12.752      0.000      -2.409      -1.767\n",
      "==============================================================================\n"
     ]
    }
   ],
   "source": [
    "X_train = X_train.drop('S',axis = 1)\n",
    "logit_model = sm.Logit(y_train,X_train)\n",
    "result_6 = logit_model.fit()\n",
    "print(result_6.summary())"
   ]
  },
  {
   "cell_type": "code",
   "execution_count": 79,
   "metadata": {},
   "outputs": [
    {
     "data": {
      "text/html": [
       "<div>\n",
       "<style scoped>\n",
       "    .dataframe tbody tr th:only-of-type {\n",
       "        vertical-align: middle;\n",
       "    }\n",
       "\n",
       "    .dataframe tbody tr th {\n",
       "        vertical-align: top;\n",
       "    }\n",
       "\n",
       "    .dataframe thead th {\n",
       "        text-align: right;\n",
       "    }\n",
       "</style>\n",
       "<table border=\"1\" class=\"dataframe\">\n",
       "  <thead>\n",
       "    <tr style=\"text-align: right;\">\n",
       "      <th></th>\n",
       "      <th>Features</th>\n",
       "      <th>VIF</th>\n",
       "    </tr>\n",
       "  </thead>\n",
       "  <tbody>\n",
       "    <tr>\n",
       "      <th>1</th>\n",
       "      <td>Fare</td>\n",
       "      <td>1.29</td>\n",
       "    </tr>\n",
       "    <tr>\n",
       "      <th>0</th>\n",
       "      <td>SibSp</td>\n",
       "      <td>1.23</td>\n",
       "    </tr>\n",
       "    <tr>\n",
       "      <th>2</th>\n",
       "      <td>male</td>\n",
       "      <td>1.20</td>\n",
       "    </tr>\n",
       "  </tbody>\n",
       "</table>\n",
       "</div>"
      ],
      "text/plain": [
       "  Features   VIF\n",
       "1     Fare  1.29\n",
       "0    SibSp  1.23\n",
       "2     male  1.20"
      ]
     },
     "execution_count": 79,
     "metadata": {},
     "output_type": "execute_result"
    }
   ],
   "source": [
    "from statsmodels.stats.outliers_influence import variance_inflation_factor\n",
    "vif = pd.DataFrame()\n",
    "vif['Features']= X_train.columns\n",
    "vif['VIF'] = [variance_inflation_factor(X_train.values,i) for i in range(X_train.shape[1])]\n",
    "vif['VIF'] = round(vif['VIF'],2)\n",
    "vif = vif.sort_values(by='VIF',ascending=False)\n",
    "vif"
   ]
  },
  {
   "cell_type": "code",
   "execution_count": 52,
   "metadata": {},
   "outputs": [],
   "source": [
    "predictions = logmodel.predict(X_test)"
   ]
  },
  {
   "cell_type": "code",
   "execution_count": 53,
   "metadata": {},
   "outputs": [
    {
     "data": {
      "text/plain": [
       "0.7910447761194029"
      ]
     },
     "execution_count": 53,
     "metadata": {},
     "output_type": "execute_result"
    }
   ],
   "source": [
    "# Finding the accuracy of the model\n",
    "from sklearn.metrics import accuracy_score\n",
    "accuracy_score(y_test,predictions)"
   ]
  },
  {
   "cell_type": "markdown",
   "metadata": {},
   "source": [
    "### Model Evaluation"
   ]
  },
  {
   "cell_type": "markdown",
   "metadata": {},
   "source": [
    "- We have to check Precision, Recall and F1-Score using classification report\n",
    "- We can see the confusion matrix\n",
    "- We can plot AUC-ROC Curve"
   ]
  },
  {
   "cell_type": "code",
   "execution_count": 54,
   "metadata": {},
   "outputs": [
    {
     "name": "stdout",
     "output_type": "stream",
     "text": [
      "              precision    recall  f1-score   support\n",
      "\n",
      "           0       0.78      0.88      0.83       154\n",
      "           1       0.80      0.68      0.73       114\n",
      "\n",
      "    accuracy                           0.79       268\n",
      "   macro avg       0.79      0.78      0.78       268\n",
      "weighted avg       0.79      0.79      0.79       268\n",
      "\n"
     ]
    }
   ],
   "source": [
    "from sklearn.metrics import classification_report\n",
    "print(classification_report(y_test,predictions))"
   ]
  },
  {
   "cell_type": "code",
   "execution_count": 55,
   "metadata": {},
   "outputs": [
    {
     "data": {
      "text/plain": [
       "array([[135,  19],\n",
       "       [ 37,  77]])"
      ]
     },
     "execution_count": 55,
     "metadata": {},
     "output_type": "execute_result"
    }
   ],
   "source": [
    "### Confusion Matrix\n",
    "from sklearn.metrics import confusion_matrix\n",
    "confusion_matrix(y_test,predictions)"
   ]
  },
  {
   "cell_type": "code",
   "execution_count": 56,
   "metadata": {},
   "outputs": [
    {
     "data": {
      "text/plain": [
       "0.7873134328358209"
      ]
     },
     "execution_count": 56,
     "metadata": {},
     "output_type": "execute_result"
    }
   ],
   "source": [
    "(135+76)/(135+19+38+76)"
   ]
  },
  {
   "cell_type": "markdown",
   "metadata": {},
   "source": [
    "### AUC-ROC Curve"
   ]
  },
  {
   "cell_type": "code",
   "execution_count": 57,
   "metadata": {},
   "outputs": [],
   "source": [
    "prob = logmodel.predict_proba(X_test)"
   ]
  },
  {
   "cell_type": "code",
   "execution_count": 58,
   "metadata": {},
   "outputs": [
    {
     "data": {
      "text/plain": [
       "array([[0.69040924, 0.30959076],\n",
       "       [0.02263494, 0.97736506],\n",
       "       [0.48026198, 0.51973802],\n",
       "       [0.82339324, 0.17660676],\n",
       "       [0.79211956, 0.20788044],\n",
       "       [0.95018205, 0.04981795],\n",
       "       [0.6102437 , 0.3897563 ],\n",
       "       [0.89357943, 0.10642057],\n",
       "       [0.12448613, 0.87551387],\n",
       "       [0.37470389, 0.62529611],\n",
       "       [0.79211956, 0.20788044],\n",
       "       [0.92671629, 0.07328371],\n",
       "       [0.28182482, 0.71817518],\n",
       "       [0.90137033, 0.09862967],\n",
       "       [0.90110248, 0.09889752],\n",
       "       [0.95157775, 0.04842225],\n",
       "       [0.40396175, 0.59603825],\n",
       "       [0.87216159, 0.12783841],\n",
       "       [0.85798781, 0.14201219],\n",
       "       [0.21587471, 0.78412529],\n",
       "       [0.9346076 , 0.0653924 ],\n",
       "       [0.94573264, 0.05426736],\n",
       "       [0.31458248, 0.68541752],\n",
       "       [0.36723201, 0.63276799],\n",
       "       [0.95881804, 0.04118196],\n",
       "       [0.80268235, 0.19731765],\n",
       "       [0.86728895, 0.13271105],\n",
       "       [0.75837251, 0.24162749],\n",
       "       [0.90292226, 0.09707774],\n",
       "       [0.94838779, 0.05161221],\n",
       "       [0.19845521, 0.80154479],\n",
       "       [0.15696996, 0.84303004],\n",
       "       [0.3145725 , 0.6854275 ],\n",
       "       [0.91352921, 0.08647079],\n",
       "       [0.90038322, 0.09961678],\n",
       "       [0.04932702, 0.95067298],\n",
       "       [0.92113664, 0.07886336],\n",
       "       [0.95383829, 0.04616171],\n",
       "       [0.89279113, 0.10720887],\n",
       "       [0.56184952, 0.43815048],\n",
       "       [0.29129203, 0.70870797],\n",
       "       [0.37470389, 0.62529611],\n",
       "       [0.11258752, 0.88741248],\n",
       "       [0.65690262, 0.34309738],\n",
       "       [0.84543107, 0.15456893],\n",
       "       [0.60980337, 0.39019663],\n",
       "       [0.95093654, 0.04906346],\n",
       "       [0.68756776, 0.31243224],\n",
       "       [0.93710034, 0.06289966],\n",
       "       [0.79211956, 0.20788044],\n",
       "       [0.20330687, 0.79669313],\n",
       "       [0.73673577, 0.26326423],\n",
       "       [0.25510072, 0.74489928],\n",
       "       [0.3385333 , 0.6614667 ],\n",
       "       [0.3145725 , 0.6854275 ],\n",
       "       [0.90116171, 0.09883829],\n",
       "       [0.8511358 , 0.1488642 ],\n",
       "       [0.87279483, 0.12720517],\n",
       "       [0.69787149, 0.30212851],\n",
       "       [0.06372703, 0.93627297],\n",
       "       [0.06792338, 0.93207662],\n",
       "       [0.88282595, 0.11717405],\n",
       "       [0.96506602, 0.03493398],\n",
       "       [0.41052788, 0.58947212],\n",
       "       [0.94828433, 0.05171567],\n",
       "       [0.74740788, 0.25259212],\n",
       "       [0.16028211, 0.83971789],\n",
       "       [0.43497142, 0.56502858],\n",
       "       [0.38600707, 0.61399293],\n",
       "       [0.61382557, 0.38617443],\n",
       "       [0.41172967, 0.58827033],\n",
       "       [0.86121735, 0.13878265],\n",
       "       [0.86604251, 0.13395749],\n",
       "       [0.88141221, 0.11858779],\n",
       "       [0.46001595, 0.53998405],\n",
       "       [0.07326464, 0.92673536],\n",
       "       [0.93242282, 0.06757718],\n",
       "       [0.90498139, 0.09501861],\n",
       "       [0.90289477, 0.09710523],\n",
       "       [0.74339569, 0.25660431],\n",
       "       [0.98915181, 0.01084819],\n",
       "       [0.06102435, 0.93897565],\n",
       "       [0.862251  , 0.137749  ],\n",
       "       [0.91788656, 0.08211344],\n",
       "       [0.23505895, 0.76494105],\n",
       "       [0.89380655, 0.10619345],\n",
       "       [0.86081562, 0.13918438],\n",
       "       [0.45885903, 0.54114097],\n",
       "       [0.90665919, 0.09334081],\n",
       "       [0.3745841 , 0.6254159 ],\n",
       "       [0.86260236, 0.13739764],\n",
       "       [0.46894172, 0.53105828],\n",
       "       [0.02525851, 0.97474149],\n",
       "       [0.15862362, 0.84137638],\n",
       "       [0.48327854, 0.51672146],\n",
       "       [0.1968787 , 0.8031213 ],\n",
       "       [0.27332283, 0.72667717],\n",
       "       [0.87680408, 0.12319592],\n",
       "       [0.86092215, 0.13907785],\n",
       "       [0.85295736, 0.14704264],\n",
       "       [0.92092124, 0.07907876],\n",
       "       [0.18644209, 0.81355791],\n",
       "       [0.67019045, 0.32980955],\n",
       "       [0.89204095, 0.10795905],\n",
       "       [0.34230694, 0.65769306],\n",
       "       [0.37164803, 0.62835197],\n",
       "       [0.1824608 , 0.8175392 ],\n",
       "       [0.09481231, 0.90518769],\n",
       "       [0.29467685, 0.70532315],\n",
       "       [0.60539041, 0.39460959],\n",
       "       [0.65917378, 0.34082622],\n",
       "       [0.5837614 , 0.4162386 ],\n",
       "       [0.76500943, 0.23499057],\n",
       "       [0.88985578, 0.11014422],\n",
       "       [0.44044495, 0.55955505],\n",
       "       [0.69842937, 0.30157063],\n",
       "       [0.14570325, 0.85429675],\n",
       "       [0.83903734, 0.16096266],\n",
       "       [0.78164545, 0.21835455],\n",
       "       [0.3145725 , 0.6854275 ],\n",
       "       [0.53163675, 0.46836325],\n",
       "       [0.95200098, 0.04799902],\n",
       "       [0.09510214, 0.90489786],\n",
       "       [0.88966516, 0.11033484],\n",
       "       [0.59249766, 0.40750234],\n",
       "       [0.91181783, 0.08818217],\n",
       "       [0.62293013, 0.37706987],\n",
       "       [0.92734381, 0.07265619],\n",
       "       [0.10985387, 0.89014613],\n",
       "       [0.74285433, 0.25714567],\n",
       "       [0.04056073, 0.95943927],\n",
       "       [0.24847755, 0.75152245],\n",
       "       [0.07950542, 0.92049458],\n",
       "       [0.92483445, 0.07516555],\n",
       "       [0.93336509, 0.06663491],\n",
       "       [0.8878325 , 0.1121675 ],\n",
       "       [0.94344528, 0.05655472],\n",
       "       [0.95016453, 0.04983547],\n",
       "       [0.90112188, 0.09887812],\n",
       "       [0.15741778, 0.84258222],\n",
       "       [0.92945682, 0.07054318],\n",
       "       [0.38117468, 0.61882532],\n",
       "       [0.88547685, 0.11452315],\n",
       "       [0.90822197, 0.09177803],\n",
       "       [0.46552198, 0.53447802],\n",
       "       [0.91479071, 0.08520929],\n",
       "       [0.03844552, 0.96155448],\n",
       "       [0.49810239, 0.50189761],\n",
       "       [0.93880133, 0.06119867],\n",
       "       [0.84700492, 0.15299508],\n",
       "       [0.16223034, 0.83776966],\n",
       "       [0.37312794, 0.62687206],\n",
       "       [0.6471479 , 0.3528521 ],\n",
       "       [0.90112188, 0.09887812],\n",
       "       [0.85880792, 0.14119208],\n",
       "       [0.65351779, 0.34648221],\n",
       "       [0.3435629 , 0.6564371 ],\n",
       "       [0.5148341 , 0.4851659 ],\n",
       "       [0.16256497, 0.83743503],\n",
       "       [0.05080878, 0.94919122],\n",
       "       [0.7550617 , 0.2449383 ],\n",
       "       [0.862251  , 0.137749  ],\n",
       "       [0.50064156, 0.49935844],\n",
       "       [0.89741203, 0.10258797],\n",
       "       [0.23287081, 0.76712919],\n",
       "       [0.23176993, 0.76823007],\n",
       "       [0.901071  , 0.098929  ],\n",
       "       [0.05754192, 0.94245808],\n",
       "       [0.7767483 , 0.2232517 ],\n",
       "       [0.70683146, 0.29316854],\n",
       "       [0.10442024, 0.89557976],\n",
       "       [0.87700555, 0.12299445],\n",
       "       [0.5147404 , 0.4852596 ],\n",
       "       [0.0667601 , 0.9332399 ],\n",
       "       [0.9013141 , 0.0986859 ],\n",
       "       [0.901071  , 0.098929  ],\n",
       "       [0.13169976, 0.86830024],\n",
       "       [0.96056625, 0.03943375],\n",
       "       [0.79211956, 0.20788044],\n",
       "       [0.73959737, 0.26040263],\n",
       "       [0.73779151, 0.26220849],\n",
       "       [0.91748109, 0.08251891],\n",
       "       [0.08047045, 0.91952955],\n",
       "       [0.09488164, 0.90511836],\n",
       "       [0.31426329, 0.68573671],\n",
       "       [0.94160346, 0.05839654],\n",
       "       [0.90112188, 0.09887812],\n",
       "       [0.54035467, 0.45964533],\n",
       "       [0.97676678, 0.02323322],\n",
       "       [0.91796326, 0.08203674],\n",
       "       [0.95141507, 0.04858493],\n",
       "       [0.9014005 , 0.0985995 ],\n",
       "       [0.84021171, 0.15978829],\n",
       "       [0.20375668, 0.79624332],\n",
       "       [0.56169589, 0.43830411],\n",
       "       [0.95560856, 0.04439144],\n",
       "       [0.90133468, 0.09866532],\n",
       "       [0.430764  , 0.569236  ],\n",
       "       [0.68756776, 0.31243224],\n",
       "       [0.96497908, 0.03502092],\n",
       "       [0.47570819, 0.52429181],\n",
       "       [0.54505914, 0.45494086],\n",
       "       [0.92235693, 0.07764307],\n",
       "       [0.09993982, 0.90006018],\n",
       "       [0.92948613, 0.07051387],\n",
       "       [0.76636787, 0.23363213],\n",
       "       [0.8896576 , 0.1103424 ],\n",
       "       [0.52895436, 0.47104564],\n",
       "       [0.249558  , 0.750442  ],\n",
       "       [0.97659999, 0.02340001],\n",
       "       [0.69410858, 0.30589142],\n",
       "       [0.69827278, 0.30172722],\n",
       "       [0.88136384, 0.11863616],\n",
       "       [0.88807095, 0.11192905],\n",
       "       [0.73382548, 0.26617452],\n",
       "       [0.8276428 , 0.1723572 ],\n",
       "       [0.85323839, 0.14676161],\n",
       "       [0.05796038, 0.94203962],\n",
       "       [0.901071  , 0.098929  ],\n",
       "       [0.31270497, 0.68729503],\n",
       "       [0.28870077, 0.71129923],\n",
       "       [0.67290653, 0.32709347],\n",
       "       [0.59070887, 0.40929113],\n",
       "       [0.86988116, 0.13011884],\n",
       "       [0.862251  , 0.137749  ],\n",
       "       [0.69207281, 0.30792719],\n",
       "       [0.901071  , 0.098929  ],\n",
       "       [0.901071  , 0.098929  ],\n",
       "       [0.90176527, 0.09823473],\n",
       "       [0.84768954, 0.15231046],\n",
       "       [0.84344854, 0.15655146],\n",
       "       [0.44600558, 0.55399442],\n",
       "       [0.52214212, 0.47785788],\n",
       "       [0.38842411, 0.61157589],\n",
       "       [0.28346371, 0.71653629],\n",
       "       [0.87690401, 0.12309599],\n",
       "       [0.56969656, 0.43030344],\n",
       "       [0.3145725 , 0.6854275 ],\n",
       "       [0.24628492, 0.75371508],\n",
       "       [0.91480272, 0.08519728],\n",
       "       [0.28012275, 0.71987725],\n",
       "       [0.12381253, 0.87618747],\n",
       "       [0.91481956, 0.08518044],\n",
       "       [0.89306642, 0.10693358],\n",
       "       [0.11151161, 0.88848839],\n",
       "       [0.22503337, 0.77496663],\n",
       "       [0.92734381, 0.07265619],\n",
       "       [0.84577927, 0.15422073],\n",
       "       [0.14117579, 0.85882421],\n",
       "       [0.46578645, 0.53421355],\n",
       "       [0.71087766, 0.28912234],\n",
       "       [0.16715181, 0.83284819],\n",
       "       [0.862251  , 0.137749  ],\n",
       "       [0.76125741, 0.23874259],\n",
       "       [0.95112331, 0.04887669],\n",
       "       [0.895645  , 0.104355  ],\n",
       "       [0.9086939 , 0.0913061 ],\n",
       "       [0.901071  , 0.098929  ],\n",
       "       [0.10218289, 0.89781711],\n",
       "       [0.862251  , 0.137749  ],\n",
       "       [0.50410307, 0.49589693],\n",
       "       [0.01190523, 0.98809477],\n",
       "       [0.87491486, 0.12508514],\n",
       "       [0.86226014, 0.13773986],\n",
       "       [0.30760718, 0.69239282],\n",
       "       [0.64171386, 0.35828614],\n",
       "       [0.96352925, 0.03647075],\n",
       "       [0.20986433, 0.79013567]])"
      ]
     },
     "execution_count": 58,
     "metadata": {},
     "output_type": "execute_result"
    }
   ],
   "source": [
    "prob"
   ]
  },
  {
   "cell_type": "code",
   "execution_count": 59,
   "metadata": {},
   "outputs": [],
   "source": [
    "from sklearn.metrics import roc_curve,roc_auc_score\n",
    "def draw_roc( actual, probs ):\n",
    "    fpr, tpr, thresholds = roc_curve( actual, probs,drop_intermediate = False )\n",
    "    auc_score = roc_auc_score( actual, probs )\n",
    "    plt.figure(figsize=(5, 5))\n",
    "    plt.plot( fpr, tpr, label='ROC curve (area = %0.2f)' % auc_score )\n",
    "    plt.plot([0, 1], [0, 1], 'k--')\n",
    "    plt.xlim([0.0, 1.0])\n",
    "    plt.ylim([0.0, 1.05])\n",
    "    plt.xlabel('False Positive Rate or [1 - True Negative Rate]')\n",
    "    plt.ylabel('True Positive Rate')\n",
    "    plt.title('Receiver operating characteristic example')\n",
    "    plt.legend(loc=\"lower right\")\n",
    "    plt.show()\n",
    "    return None"
   ]
  },
  {
   "cell_type": "code",
   "execution_count": 60,
   "metadata": {},
   "outputs": [],
   "source": [
    "fpr,tpr,thresholds = roc_curve(y_test,prob[:,1],drop_intermediate=False)"
   ]
  },
  {
   "cell_type": "code",
   "execution_count": 61,
   "metadata": {},
   "outputs": [
    {
     "data": {
      "image/png": "[encoded data removed]",
      "text/plain": [
       "<Figure size 360x360 with 1 Axes>"
      ]
     },
     "metadata": {
      "needs_background": "light"
     },
     "output_type": "display_data"
    }
   ],
   "source": [
    "draw_roc(y_test,prob[:,1])"
   ]
  },
  {
   "cell_type": "code",
   "execution_count": 62,
   "metadata": {},
   "outputs": [
    {
     "data": {
      "text/plain": [
       "array([0.30959076, 0.97736506, 0.51973802, 0.17660676, 0.20788044,\n",
       "       0.04981795, 0.3897563 , 0.10642057, 0.87551387, 0.62529611,\n",
       "       0.20788044, 0.07328371, 0.71817518, 0.09862967, 0.09889752,\n",
       "       0.04842225, 0.59603825, 0.12783841, 0.14201219, 0.78412529,\n",
       "       0.0653924 , 0.05426736, 0.68541752, 0.63276799, 0.04118196,\n",
       "       0.19731765, 0.13271105, 0.24162749, 0.09707774, 0.05161221,\n",
       "       0.80154479, 0.84303004, 0.6854275 , 0.08647079, 0.09961678,\n",
       "       0.95067298, 0.07886336, 0.04616171, 0.10720887, 0.43815048,\n",
       "       0.70870797, 0.62529611, 0.88741248, 0.34309738, 0.15456893,\n",
       "       0.39019663, 0.04906346, 0.31243224, 0.06289966, 0.20788044,\n",
       "       0.79669313, 0.26326423, 0.74489928, 0.6614667 , 0.6854275 ,\n",
       "       0.09883829, 0.1488642 , 0.12720517, 0.30212851, 0.93627297,\n",
       "       0.93207662, 0.11717405, 0.03493398, 0.58947212, 0.05171567,\n",
       "       0.25259212, 0.83971789, 0.56502858, 0.61399293, 0.38617443,\n",
       "       0.58827033, 0.13878265, 0.13395749, 0.11858779, 0.53998405,\n",
       "       0.92673536, 0.06757718, 0.09501861, 0.09710523, 0.25660431,\n",
       "       0.01084819, 0.93897565, 0.137749  , 0.08211344, 0.76494105,\n",
       "       0.10619345, 0.13918438, 0.54114097, 0.09334081, 0.6254159 ,\n",
       "       0.13739764, 0.53105828, 0.97474149, 0.84137638, 0.51672146,\n",
       "       0.8031213 , 0.72667717, 0.12319592, 0.13907785, 0.14704264,\n",
       "       0.07907876, 0.81355791, 0.32980955, 0.10795905, 0.65769306,\n",
       "       0.62835197, 0.8175392 , 0.90518769, 0.70532315, 0.39460959,\n",
       "       0.34082622, 0.4162386 , 0.23499057, 0.11014422, 0.55955505,\n",
       "       0.30157063, 0.85429675, 0.16096266, 0.21835455, 0.6854275 ,\n",
       "       0.46836325, 0.04799902, 0.90489786, 0.11033484, 0.40750234,\n",
       "       0.08818217, 0.37706987, 0.07265619, 0.89014613, 0.25714567,\n",
       "       0.95943927, 0.75152245, 0.92049458, 0.07516555, 0.06663491,\n",
       "       0.1121675 , 0.05655472, 0.04983547, 0.09887812, 0.84258222,\n",
       "       0.07054318, 0.61882532, 0.11452315, 0.09177803, 0.53447802,\n",
       "       0.08520929, 0.96155448, 0.50189761, 0.06119867, 0.15299508,\n",
       "       0.83776966, 0.62687206, 0.3528521 , 0.09887812, 0.14119208,\n",
       "       0.34648221, 0.6564371 , 0.4851659 , 0.83743503, 0.94919122,\n",
       "       0.2449383 , 0.137749  , 0.49935844, 0.10258797, 0.76712919,\n",
       "       0.76823007, 0.098929  , 0.94245808, 0.2232517 , 0.29316854,\n",
       "       0.89557976, 0.12299445, 0.4852596 , 0.9332399 , 0.0986859 ,\n",
       "       0.098929  , 0.86830024, 0.03943375, 0.20788044, 0.26040263,\n",
       "       0.26220849, 0.08251891, 0.91952955, 0.90511836, 0.68573671,\n",
       "       0.05839654, 0.09887812, 0.45964533, 0.02323322, 0.08203674,\n",
       "       0.04858493, 0.0985995 , 0.15978829, 0.79624332, 0.43830411,\n",
       "       0.04439144, 0.09866532, 0.569236  , 0.31243224, 0.03502092,\n",
       "       0.52429181, 0.45494086, 0.07764307, 0.90006018, 0.07051387,\n",
       "       0.23363213, 0.1103424 , 0.47104564, 0.750442  , 0.02340001,\n",
       "       0.30589142, 0.30172722, 0.11863616, 0.11192905, 0.26617452,\n",
       "       0.1723572 , 0.14676161, 0.94203962, 0.098929  , 0.68729503,\n",
       "       0.71129923, 0.32709347, 0.40929113, 0.13011884, 0.137749  ,\n",
       "       0.30792719, 0.098929  , 0.098929  , 0.09823473, 0.15231046,\n",
       "       0.15655146, 0.55399442, 0.47785788, 0.61157589, 0.71653629,\n",
       "       0.12309599, 0.43030344, 0.6854275 , 0.75371508, 0.08519728,\n",
       "       0.71987725, 0.87618747, 0.08518044, 0.10693358, 0.88848839,\n",
       "       0.77496663, 0.07265619, 0.15422073, 0.85882421, 0.53421355,\n",
       "       0.28912234, 0.83284819, 0.137749  , 0.23874259, 0.04887669,\n",
       "       0.104355  , 0.0913061 , 0.098929  , 0.89781711, 0.137749  ,\n",
       "       0.49589693, 0.98809477, 0.12508514, 0.13773986, 0.69239282,\n",
       "       0.35828614, 0.03647075, 0.79013567])"
      ]
     },
     "execution_count": 62,
     "metadata": {},
     "output_type": "execute_result"
    }
   ],
   "source": [
    "prob[:,1]"
   ]
  },
  {
   "cell_type": "code",
   "execution_count": null,
   "metadata": {},
   "outputs": [],
   "source": []
  }
 ],
 "metadata": {
  "kernelspec": {
   "display_name": "Python 3",
   "language": "python",
   "name": "python3"
  },
  "language_info": {
   "codemirror_mode": {
    "name": "ipython",
    "version": 3
   },
   "file_extension": ".py",
   "mimetype": "text/x-python",
   "name": "python",
   "nbconvert_exporter": "python",
   "pygments_lexer": "ipython3",
   "version": "3.7.6"
  }
 },
 "nbformat": 4,
 "nbformat_minor": 2
}
